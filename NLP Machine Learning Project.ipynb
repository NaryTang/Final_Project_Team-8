{
 "cells": [
  {
   "cell_type": "markdown",
   "metadata": {},
   "source": [
    "# Dependencies"
   ]
  },
  {
   "cell_type": "code",
   "execution_count": 40,
   "metadata": {},
   "outputs": [],
   "source": [
    "import pandas as pd\n",
    "import numpy as np\n",
    "import json\n",
    "import re\n",
    "from nltk.corpus import stopwords\n",
    "import os\n",
    "\n",
    "from sklearn.feature_extraction.text import CountVectorizer\n",
    "from sklearn.linear_model import LogisticRegression\n",
    "from sklearn.metrics import accuracy_score\n",
    "from sklearn.model_selection import train_test_split"
   ]
  },
  {
   "cell_type": "markdown",
   "metadata": {},
   "source": [
    "# Importing and Cleaning Data"
   ]
  },
  {
   "cell_type": "code",
   "execution_count": 41,
   "metadata": {},
   "outputs": [],
   "source": [
    "df = pd.read_json(\"Data_cyb.json\", lines = True, orient = \"columns\")"
   ]
  },
  {
   "cell_type": "code",
   "execution_count": 42,
   "metadata": {},
   "outputs": [],
   "source": [
    "rating = []\n",
    "\n",
    "for i in df[\"annotation\"]:\n",
    "    rating.append(int(i[\"label\"][0]))\n",
    "    \n",
    "df[\"rating\"] = rating"
   ]
  },
  {
   "cell_type": "code",
   "execution_count": 4,
   "metadata": {},
   "outputs": [
    {
     "data": {
      "text/html": [
       "<div>\n",
       "<style scoped>\n",
       "    .dataframe tbody tr th:only-of-type {\n",
       "        vertical-align: middle;\n",
       "    }\n",
       "\n",
       "    .dataframe tbody tr th {\n",
       "        vertical-align: top;\n",
       "    }\n",
       "\n",
       "    .dataframe thead th {\n",
       "        text-align: right;\n",
       "    }\n",
       "</style>\n",
       "<table border=\"1\" class=\"dataframe\">\n",
       "  <thead>\n",
       "    <tr style=\"text-align: right;\">\n",
       "      <th></th>\n",
       "      <th>annotation</th>\n",
       "      <th>content</th>\n",
       "      <th>extras</th>\n",
       "      <th>rating</th>\n",
       "    </tr>\n",
       "  </thead>\n",
       "  <tbody>\n",
       "    <tr>\n",
       "      <th>0</th>\n",
       "      <td>{'notes': '', 'label': ['1']}</td>\n",
       "      <td>Get fucking real dude.</td>\n",
       "      <td>NaN</td>\n",
       "      <td>1</td>\n",
       "    </tr>\n",
       "    <tr>\n",
       "      <th>1</th>\n",
       "      <td>{'notes': '', 'label': ['1']}</td>\n",
       "      <td>She is as dirty as they come  and that crook ...</td>\n",
       "      <td>NaN</td>\n",
       "      <td>1</td>\n",
       "    </tr>\n",
       "    <tr>\n",
       "      <th>2</th>\n",
       "      <td>{'notes': '', 'label': ['1']}</td>\n",
       "      <td>why did you fuck it up. I could do it all day...</td>\n",
       "      <td>NaN</td>\n",
       "      <td>1</td>\n",
       "    </tr>\n",
       "    <tr>\n",
       "      <th>3</th>\n",
       "      <td>{'notes': '', 'label': ['1']}</td>\n",
       "      <td>Dude they dont finish enclosing the fucking s...</td>\n",
       "      <td>NaN</td>\n",
       "      <td>1</td>\n",
       "    </tr>\n",
       "    <tr>\n",
       "      <th>4</th>\n",
       "      <td>{'notes': '', 'label': ['1']}</td>\n",
       "      <td>WTF are you talking about Men? No men thats n...</td>\n",
       "      <td>NaN</td>\n",
       "      <td>1</td>\n",
       "    </tr>\n",
       "  </tbody>\n",
       "</table>\n",
       "</div>"
      ],
      "text/plain": [
       "                      annotation  \\\n",
       "0  {'notes': '', 'label': ['1']}   \n",
       "1  {'notes': '', 'label': ['1']}   \n",
       "2  {'notes': '', 'label': ['1']}   \n",
       "3  {'notes': '', 'label': ['1']}   \n",
       "4  {'notes': '', 'label': ['1']}   \n",
       "\n",
       "                                             content  extras  rating  \n",
       "0                             Get fucking real dude.     NaN       1  \n",
       "1   She is as dirty as they come  and that crook ...     NaN       1  \n",
       "2   why did you fuck it up. I could do it all day...     NaN       1  \n",
       "3   Dude they dont finish enclosing the fucking s...     NaN       1  \n",
       "4   WTF are you talking about Men? No men thats n...     NaN       1  "
      ]
     },
     "execution_count": 4,
     "metadata": {},
     "output_type": "execute_result"
    }
   ],
   "source": [
    "df.head()"
   ]
  },
  {
   "cell_type": "code",
   "execution_count": 5,
   "metadata": {},
   "outputs": [
    {
     "data": {
      "text/html": [
       "<div>\n",
       "<style scoped>\n",
       "    .dataframe tbody tr th:only-of-type {\n",
       "        vertical-align: middle;\n",
       "    }\n",
       "\n",
       "    .dataframe tbody tr th {\n",
       "        vertical-align: top;\n",
       "    }\n",
       "\n",
       "    .dataframe thead th {\n",
       "        text-align: right;\n",
       "    }\n",
       "</style>\n",
       "<table border=\"1\" class=\"dataframe\">\n",
       "  <thead>\n",
       "    <tr style=\"text-align: right;\">\n",
       "      <th></th>\n",
       "      <th>content</th>\n",
       "      <th>rating</th>\n",
       "    </tr>\n",
       "  </thead>\n",
       "  <tbody>\n",
       "    <tr>\n",
       "      <th>96</th>\n",
       "      <td>That is someone who does it from their heart. ...</td>\n",
       "      <td>1</td>\n",
       "    </tr>\n",
       "    <tr>\n",
       "      <th>97</th>\n",
       "      <td>Absolutely applaud your work to secure freedom...</td>\n",
       "      <td>0</td>\n",
       "    </tr>\n",
       "    <tr>\n",
       "      <th>98</th>\n",
       "      <td>You'll never learn it till you actually live i...</td>\n",
       "      <td>1</td>\n",
       "    </tr>\n",
       "    <tr>\n",
       "      <th>99</th>\n",
       "      <td>Nothing on the reinstatement of federal Capito...</td>\n",
       "      <td>1</td>\n",
       "    </tr>\n",
       "    <tr>\n",
       "      <th>100</th>\n",
       "      <td>Crickets</td>\n",
       "      <td>0</td>\n",
       "    </tr>\n",
       "  </tbody>\n",
       "</table>\n",
       "</div>"
      ],
      "text/plain": [
       "                                               content  rating\n",
       "96   That is someone who does it from their heart. ...       1\n",
       "97   Absolutely applaud your work to secure freedom...       0\n",
       "98   You'll never learn it till you actually live i...       1\n",
       "99   Nothing on the reinstatement of federal Capito...       1\n",
       "100                                           Crickets       0"
      ]
     },
     "execution_count": 5,
     "metadata": {},
     "output_type": "execute_result"
    }
   ],
   "source": [
    "tweets = pd.read_csv(\"Test_Twitter_Comments.csv\")\n",
    "tweets.tail()"
   ]
  },
  {
   "cell_type": "code",
   "execution_count": 6,
   "metadata": {},
   "outputs": [],
   "source": [
    "new_df1 = df[[\"content\", \"rating\"]]"
   ]
  },
  {
   "cell_type": "code",
   "execution_count": 7,
   "metadata": {},
   "outputs": [],
   "source": [
    "new_df = pd.concat([new_df1,tweets])"
   ]
  },
  {
   "cell_type": "code",
   "execution_count": 8,
   "metadata": {},
   "outputs": [
    {
     "name": "stderr",
     "output_type": "stream",
     "text": [
      "C:\\Users\\tdgso\\Anaconda3\\lib\\site-packages\\sklearn\\model_selection\\_split.py:2179: FutureWarning: From version 0.21, test_size will always complement train_size unless both are specified.\n",
      "  FutureWarning)\n"
     ]
    }
   ],
   "source": [
    "X, X_test, y, y_test = train_test_split(new_df[\"content\"], new_df[\"rating\"], train_size = 0.8)\n"
   ]
  },
  {
   "cell_type": "code",
   "execution_count": 9,
   "metadata": {},
   "outputs": [],
   "source": [
    "import re\n",
    "\n",
    "REPLACE_NO_SPACE = re.compile(\"(\\.)|(\\;)|(\\:)|(\\!)|(\\?)|(\\,)|(\\\")|(\\()|(\\))|(\\[)|(\\])|(\\d+)\")\n",
    "REPLACE_WITH_SPACE = re.compile(\"(<br\\s*/><br\\s*/>)|(\\-)|(\\/)\")\n",
    "NO_SPACE = \"\"\n",
    "SPACE = \" \"\n",
    "\n",
    "def preprocess_reviews(reviews):\n",
    "    \n",
    "    reviews = [REPLACE_NO_SPACE.sub(NO_SPACE, line.lower()) for line in reviews]\n",
    "    reviews = [REPLACE_WITH_SPACE.sub(SPACE, line) for line in reviews]\n",
    "    \n",
    "    return reviews\n",
    "\n",
    "reviews_train_clean = preprocess_reviews(X)\n",
    "reviews_test_clean = preprocess_reviews(X_test)"
   ]
  },
  {
   "cell_type": "markdown",
   "metadata": {},
   "source": [
    "# Baseline Model"
   ]
  },
  {
   "cell_type": "code",
   "execution_count": 10,
   "metadata": {},
   "outputs": [
    {
     "name": "stdout",
     "output_type": "stream",
     "text": [
<<<<<<< HEAD
      "C:\\Users\\tdgso\\Anaconda3\\lib\\site-packages\\sklearn\\linear_model\\logistic.py:433: FutureWarning: Default solver will be changed to 'lbfgs' in 0.22. Specify a solver to silence this warning.\n",
      "  FutureWarning)\n"
=======
      "Accuracy for C=0.01: 0.6591219997512747\n",
      "Accuracy for C=0.05: 0.7024001989802263\n",
      "Accuracy for C=0.25: 0.7505285412262156\n",
      "Accuracy for C=0.5: 0.7679393110309662\n",
      "Accuracy for C=1: 0.7818679268747668\n"
>>>>>>> 6227eb06e1fa593f8a81c50f8155cc41435a83e0
     ]
    },
    {
     "name": "stderr",
     "output_type": "stream",
     "text": [
<<<<<<< HEAD
      "Accuracy for C=0.01: 0.6629772416366123\n",
      "Accuracy for C=0.05: 0.7104837706752891\n",
      "Accuracy for C=0.25: 0.7530157940554657\n",
      "Accuracy for C=0.5: 0.7700534759358288\n",
      "Accuracy for C=1: 0.7859718940430295\n"
=======
      "C:\\ProgramData\\Anaconda3\\lib\\site-packages\\sklearn\\linear_model\\logistic.py:433: FutureWarning: Default solver will be changed to 'lbfgs' in 0.22. Specify a solver to silence this warning.\n",
      "  FutureWarning)\n"
>>>>>>> 6227eb06e1fa593f8a81c50f8155cc41435a83e0
     ]
    }
   ],
   "source": [
    "baseline_vectorizer = CountVectorizer(binary=True)\n",
    "baseline_vectorizer.fit(reviews_train_clean)\n",
    "X_baseline = baseline_vectorizer.transform(reviews_train_clean)\n",
    "X_test_baseline = baseline_vectorizer.transform(reviews_test_clean)\n",
    "\n",
    "X_train, X_val, y_train, y_val = train_test_split(\n",
    "    X_baseline, y, train_size = 0.5\n",
    ")\n",
    "\n",
    "for c in [0.01, 0.05, 0.25, 0.5, 1]:\n",
    "    \n",
    "    lr = LogisticRegression(C=c)\n",
    "    lr.fit(X_train, y_train)\n",
    "    print (\"Accuracy for C=%s: %s\" \n",
    "           % (c, accuracy_score(y_val, lr.predict(X_val))))"
   ]
  },
  {
   "cell_type": "markdown",
   "metadata": {},
   "source": [
    "### Has room to learn"
   ]
  },
  {
   "cell_type": "markdown",
   "metadata": {},
   "source": [
    "# Remove Stop Words\n",
    "Removing Stop Words\n",
    "\n",
    "Stop words are the very common words like ‘if’, ‘but’, ‘we’, ‘he’, ‘she’, and ‘they’. We can usually remove these \n",
    "\n",
    "words without changing the semantics of a text "
   ]
  },
  {
   "cell_type": "code",
   "execution_count": 13,
   "metadata": {},
   "outputs": [
    {
     "name": "stderr",
     "output_type": "stream",
     "text": [
      "[nltk_data] Downloading package stopwords to\n",
      "[nltk_data]     C:\\Users\\tdgso\\AppData\\Roaming\\nltk_data...\n",
      "[nltk_data]   Unzipping corpora\\stopwords.zip.\n"
     ]
    },
    {
     "data": {
      "text/plain": [
       "True"
      ]
     },
     "execution_count": 13,
     "metadata": {},
     "output_type": "execute_result"
    }
   ],
   "source": [
    "from nltk.corpus import stopwords\n",
    "import nltk \n",
    "nltk.download('stopwords')"
   ]
  },
  {
   "cell_type": "code",
   "execution_count": 14,
   "metadata": {},
   "outputs": [],
   "source": [
    "english_stop_words = stopwords.words('english')\n",
    "def remove_stop_words(corpus):\n",
    "    removed_stop_words = []\n",
    "    for review in corpus:\n",
    "        removed_stop_words.append(\n",
    "            ' '.join([word for word in review.split() \n",
    "                      if word not in english_stop_words])\n",
    "        )\n",
    "    return removed_stop_words"
   ]
  },
  {
   "cell_type": "code",
   "execution_count": 15,
   "metadata": {},
   "outputs": [
    {
     "name": "stdout",
     "output_type": "stream",
     "text": [
<<<<<<< HEAD
      "Accuracy for C=0.01: 0.6734643123601094\n",
      "Accuracy for C=0.05: 0.7154936582939567\n",
      "Accuracy for C=0.25: 0.7704551106689879\n",
      "Accuracy for C=0.5: 0.7925889082317832\n",
      "Accuracy for C=1: 0.8099975130564536\n"
=======
      "Accuracy for C=0.01: 0.6761999502611291\n",
      "Accuracy for C=0.05: 0.7237005719970157\n",
      "Accuracy for C=0.25: 0.769211638895797\n",
      "Accuracy for C=0.5: 0.7933349912956976\n",
      "Accuracy for C=1: 0.8117383735389206\n"
>>>>>>> 6227eb06e1fa593f8a81c50f8155cc41435a83e0
     ]
    }
   ],
   "source": [
    "no_stop_words_train = remove_stop_words(reviews_train_clean)\n",
    "no_stop_words_test = remove_stop_words(reviews_test_clean)\n",
    "\n",
    "cv = CountVectorizer(binary=True)\n",
    "cv.fit(no_stop_words_train)\n",
    "X = cv.transform(no_stop_words_train)\n",
    "X_test = cv.transform(no_stop_words_test)\n",
    "\n",
    "X_train, X_val, y_train, y_val = train_test_split(\n",
    "    X, y, train_size = 0.75\n",
    ")\n",
    "\n",
    "for c in [0.01, 0.05, 0.25, 0.5, 1]:\n",
    "    \n",
    "    lr = LogisticRegression(C=c)\n",
    "    lr.fit(X_train, y_train)\n",
    "    print (\"Accuracy for C=%s: %s\" \n",
    "           % (c, accuracy_score(y_val, lr.predict(X_val))))"
   ]
  },
  {
   "cell_type": "markdown",
   "metadata": {},
   "source": [
    "### Still has room to learn"
   ]
  },
  {
   "cell_type": "markdown",
   "metadata": {},
   "source": [
    "# Normalization\n",
    "A common next step in text preprocessing is to normalize the words in your corpus by trying to convert all of the different forms of a given word into one. Two methods that exist for this are Stemming and Lemmatization.\n"
   ]
  },
  {
   "cell_type": "markdown",
   "metadata": {},
   "source": [
    "# Stemming"
   ]
  },
  {
   "cell_type": "code",
   "execution_count": 16,
   "metadata": {},
   "outputs": [
    {
     "name": "stdout",
     "output_type": "stream",
     "text": [
<<<<<<< HEAD
      "Accuracy for C=0.01: 0.6806764486446157\n",
      "Accuracy for C=0.05: 0.7182292961949763\n",
      "Accuracy for C=0.25: 0.7595125590649092\n",
      "Accuracy for C=0.5: 0.7833872171101716\n",
      "Accuracy for C=1: 0.7978114896791842\n"
=======
      "Accuracy for C=0.01: 0.682666003481721\n",
      "Accuracy for C=0.05: 0.7199701566774435\n",
      "Accuracy for C=0.25: 0.7684655558318826\n",
      "Accuracy for C=0.5: 0.785625466301915\n",
      "Accuracy for C=1: 0.8037801541904999\n"
>>>>>>> 6227eb06e1fa593f8a81c50f8155cc41435a83e0
     ]
    }
   ],
   "source": [
    "def get_stemmed_text(corpus):\n",
    "    from nltk.stem.porter import PorterStemmer\n",
    "    stemmer = PorterStemmer()\n",
    "\n",
    "    return [' '.join([stemmer.stem(word) for word in review.split()]) for review in corpus]\n",
    "\n",
    "stemmed_reviews_train = get_stemmed_text(reviews_train_clean)\n",
    "stemmed_reviews_test = get_stemmed_text(reviews_test_clean)\n",
    "\n",
    "cv = CountVectorizer(binary=True)\n",
    "cv.fit(stemmed_reviews_train)\n",
    "X = cv.transform(stemmed_reviews_train)\n",
    "X_test = cv.transform(stemmed_reviews_test)\n",
    "\n",
    "X_train, X_val, y_train, y_val = train_test_split(\n",
    "    X, y, train_size = 0.75\n",
    ")\n",
    "\n",
    "for c in [0.01, 0.05, 0.25, 0.5, 1]:\n",
    "    \n",
    "    lr = LogisticRegression(C=c)\n",
    "    lr.fit(X_train, y_train)\n",
    "    print (\"Accuracy for C=%s: %s\" \n",
    "           % (c, accuracy_score(y_val, lr.predict(X_val))))"
   ]
  },
  {
   "cell_type": "markdown",
   "metadata": {},
   "source": [
    "### Still has room to learn"
   ]
  },
  {
   "cell_type": "markdown",
   "metadata": {},
   "source": [
    "# Lemmatization"
   ]
  },
  {
   "cell_type": "code",
   "execution_count": 18,
   "metadata": {},
   "outputs": [
    {
     "name": "stdout",
     "output_type": "stream",
     "text": [
<<<<<<< HEAD
      "Accuracy for C=0.01: 0.6712260631683661\n",
      "Accuracy for C=0.05: 0.7154936582939567\n",
      "Accuracy for C=0.25: 0.7622481969659288\n",
      "Accuracy for C=0.5: 0.7818950509823427\n",
      "Accuracy for C=1: 0.799054961452375\n",
      "Final Accuracy: 0.8378512807759264\n"
=======
      "Accuracy for C=0.01: 0.6781895050982343\n",
      "Accuracy for C=0.05: 0.727430987316588\n",
      "Accuracy for C=0.25: 0.7652325292215867\n",
      "Accuracy for C=0.5: 0.7838846058194479\n",
      "Accuracy for C=1: 0.7993036558070132\n"
>>>>>>> 6227eb06e1fa593f8a81c50f8155cc41435a83e0
     ]
    }
   ],
   "source": [
    "def get_lemmatized_text(corpus):\n",
    "    \n",
    "    from nltk.stem import WordNetLemmatizer\n",
    "    lemmatizer = WordNetLemmatizer()\n",
    "    return [' '.join([lemmatizer.lemmatize(word) for word in review.split()]) for review in corpus]\n",
    "\n",
    "lemmatized_reviews_train = get_lemmatized_text(reviews_train_clean)\n",
    "lemmatized_reviews_test = get_lemmatized_text(reviews_test_clean)\n",
    "\n",
    "cv = CountVectorizer(binary=True)\n",
    "cv.fit(lemmatized_reviews_train)\n",
    "X = cv.transform(lemmatized_reviews_train)\n",
    "X_test = cv.transform(lemmatized_reviews_test)\n",
    "\n",
    "X_train, X_val, y_train, y_val = train_test_split(\n",
    "    X, y, train_size = 0.75\n",
    ")\n",
    "\n",
    "for c in [0.01, 0.05, 0.25, 0.5, 1]:\n",
    "    \n",
    "    lr = LogisticRegression(C=c)\n",
    "    lr.fit(X_train, y_train)\n",
    "    print (\"Accuracy for C=%s: %s\" \n",
    "           % (c, accuracy_score(y_val, lr.predict(X_val))))"
   ]
  },
  {
   "cell_type": "markdown",
   "metadata": {},
   "source": [
    "### Still has room to learn"
   ]
  },
  {
   "cell_type": "markdown",
   "metadata": {},
   "source": [
    "# n-grams\n",
    "\n",
    "Last time we used only single word features in our model, which we call 1-grams or unigrams. We can potentially add more predictive power to our model by adding two or three word sequences (bigrams or trigrams) as well. For example, if a review had the three word sequence “didn’t love movie” we would only consider these words individually with a unigram-only model and probably not capture that this is actually a negative sentiment because the word ‘love’ by itself is going to be highly correlated with a positive review.\n",
    "The scikit-learn library makes this really easy to play around with. Just use the ngram_range argu"
   ]
  },
  {
   "cell_type": "code",
   "execution_count": 19,
   "metadata": {},
   "outputs": [
    {
     "name": "stdout",
     "output_type": "stream",
     "text": [
<<<<<<< HEAD
      "Accuracy for C=0.01: 0.7393683163392191\n",
      "Accuracy for C=0.05: 0.8435712509326039\n",
      "Accuracy for C=0.25: 0.8778910718726685\n",
      "Accuracy for C=0.5: 0.8766476000994777\n",
      "Accuracy for C=1: 0.8768962944541159\n",
      "Final Accuracy: 0.9159413081323053\n"
=======
      "Accuracy for C=0.01: 0.7338970405371799\n",
      "Accuracy for C=0.05: 0.8331260880378015\n",
      "Accuracy for C=0.25: 0.8746580452623726\n",
      "Accuracy for C=0.5: 0.8796319323551356\n",
      "Accuracy for C=1: 0.8786371549365829\n",
      "Final Accuracy: 0.9156926137776672\n"
>>>>>>> 6227eb06e1fa593f8a81c50f8155cc41435a83e0
     ]
    }
   ],
   "source": [
    "ngram_vectorizer = CountVectorizer(binary=True, ngram_range=(1, 4))\n",
    "ngram_vectorizer.fit(reviews_train_clean)\n",
    "X = ngram_vectorizer.transform(reviews_train_clean)\n",
    "X_test = ngram_vectorizer.transform(reviews_test_clean)\n",
    "\n",
    "X_train, X_val, y_train, y_val = train_test_split(\n",
    "    X, y, train_size = 0.75\n",
    ")\n",
    "\n",
    "for c in [0.01, 0.05, 0.25, 0.5, 1]:\n",
    "    \n",
    "    lr = LogisticRegression(C=c)\n",
    "    lr.fit(X_train, y_train)\n",
    "    print (\"Accuracy for C=%s: %s\" \n",
    "           % (c, accuracy_score(y_val, lr.predict(X_val))))\n",
    "    \n",
    "final_ngram = LogisticRegression(C=1)\n",
    "final_ngram.fit(X, y)\n",
    "print (\"Final Accuracy: %s\" \n",
    "       % accuracy_score(y_test, final_ngram.predict(X_test)))"
   ]
  },
  {
   "cell_type": "markdown",
   "metadata": {},
   "source": [
    "### Still has room to learn"
   ]
  },
  {
   "cell_type": "markdown",
   "metadata": {},
   "source": [
    "# Word Counts"
   ]
  },
  {
   "cell_type": "code",
   "execution_count": 20,
   "metadata": {},
   "outputs": [
    {
     "name": "stdout",
     "output_type": "stream",
     "text": [
<<<<<<< HEAD
      "Accuracy for C=0.01: 0.6694852026858991\n",
      "Accuracy for C=0.05: 0.7169858244217856\n",
      "Accuracy for C=0.25: 0.76747077841333\n",
      "Accuracy for C=0.5: 0.792340213877145\n",
      "Accuracy for C=1: 0.8144740114399404\n",
      "Final Accuracy: 0.7289231534444168\n"
=======
      "Accuracy for C=0.01: 0.6543148470529719\n",
      "Accuracy for C=0.05: 0.6980850534692863\n",
      "Accuracy for C=0.25: 0.7463317582690873\n",
      "Accuracy for C=0.5: 0.7731907485700075\n",
      "Accuracy for C=1: 0.7958219348420791\n"
>>>>>>> 6227eb06e1fa593f8a81c50f8155cc41435a83e0
     ]
    }
   ],
   "source": [
    "from sklearn.linear_model import LogisticRegression\n",
    "from sklearn.metrics import accuracy_score\n",
    "from sklearn.model_selection import train_test_split\n",
    "\n",
    "wc_vectorizer = CountVectorizer(binary=False)\n",
    "wc_vectorizer.fit(reviews_train_clean)\n",
    "X = wc_vectorizer.transform(reviews_train_clean)\n",
    "X_test = wc_vectorizer.transform(reviews_test_clean)\n",
    "\n",
    "X_train, X_val, y_train, y_val = train_test_split(\n",
    "    X, y, train_size = 0.75, \n",
    ")\n",
    "\n",
    "for c in [0.01, 0.05, 0.25, 0.5, 1]:\n",
    "    \n",
    "    lr = LogisticRegression(C=c)\n",
    "    lr.fit(X_train, y_train)\n",
    "    print (\"Accuracy for C=%s: %s\" \n",
    "           % (c, accuracy_score(y_val, lr.predict(X_val))))"
   ]
  },
  {
   "cell_type": "markdown",
   "metadata": {},
   "source": [
    "### Still has room to learn"
   ]
  },
  {
   "cell_type": "markdown",
   "metadata": {},
   "source": [
    "# TF-IDF\n",
    "\n",
    "Another common way to represent each document in a corpus is to use the tf-idf statistic (term frequency-inverse\n",
    "\n",
    "document frequency) for each word, which is a weighting factor that we can use in place of binary or word count \n",
    "\n",
    "representations."
   ]
  },
  {
   "cell_type": "code",
   "execution_count": 21,
   "metadata": {},
   "outputs": [
    {
     "name": "stdout",
     "output_type": "stream",
     "text": [
<<<<<<< HEAD
      "Accuracy for C=0.01: 0.6030838099975131\n",
      "Accuracy for C=0.05: 0.6431236010942551\n",
      "Accuracy for C=0.25: 0.7135041034568516\n",
      "Accuracy for C=0.5: 0.7388709276299428\n",
      "Accuracy for C=1: 0.7667246953494156\n"
=======
      "Accuracy for C=0.01: 0.6038298930614275\n",
      "Accuracy for C=0.05: 0.6391444914200448\n",
      "Accuracy for C=0.25: 0.7219597115145486\n",
      "Accuracy for C=0.5: 0.7463317582690873\n",
      "Accuracy for C=1: 0.7746829146978363\n"
>>>>>>> 6227eb06e1fa593f8a81c50f8155cc41435a83e0
     ]
    }
   ],
   "source": [
    "from sklearn.feature_extraction.text import TfidfVectorizer\n",
    "from sklearn.linear_model import LogisticRegression\n",
    "from sklearn.metrics import accuracy_score\n",
    "from sklearn.model_selection import train_test_split\n",
    "\n",
    "tfidf_vectorizer = TfidfVectorizer()\n",
    "tfidf_vectorizer.fit(reviews_train_clean)\n",
    "X = tfidf_vectorizer.transform(reviews_train_clean)\n",
    "X_test = tfidf_vectorizer.transform(reviews_test_clean)\n",
    "\n",
    "X_train, X_val, y_train, y_val = train_test_split(\n",
    "    X, y, train_size = 0.75\n",
    ")\n",
    "\n",
    "for c in [0.01, 0.05, 0.25, 0.5, 1]:\n",
    "    \n",
    "    lr = LogisticRegression(C=c)\n",
    "    lr.fit(X_train, y_train)\n",
    "    print (\"Accuracy for C=%s: %s\" \n",
    "           % (c, accuracy_score(y_val, lr.predict(X_val))))"
   ]
  },
  {
   "cell_type": "markdown",
   "metadata": {},
   "source": [
    "### Still has room to learn"
   ]
  },
  {
   "cell_type": "markdown",
   "metadata": {},
   "source": [
    "# Support Vector Machines (SVM)\n",
    "\n",
    "Recall that linear classifiers tend to work well on very sparse datasets (like the one we have). Another algorithm that can produce great results with a quick training time are Support Vector Machines with a linear kernel.\n",
    "Here’s an example with an n-gram range from 1 to 2:"
   ]
  },
  {
   "cell_type": "code",
   "execution_count": 22,
   "metadata": {},
   "outputs": [
    {
     "name": "stdout",
     "output_type": "stream",
     "text": [
<<<<<<< HEAD
      "Accuracy for C=0.01: 0.8077592638647103\n",
      "Accuracy for C=0.05: 0.8542651081820443\n",
      "Accuracy for C=0.25: 0.8557572743098731\n",
      "Accuracy for C=0.5: 0.8532703307634917\n",
      "Accuracy for C=1: 0.8510320815717484\n"
=======
      "Accuracy for C=0.01: 0.8182044267595125\n",
      "Accuracy for C=0.05: 0.8594876896294454\n",
      "Accuracy for C=0.25: 0.8552598856005968\n",
      "Accuracy for C=0.5: 0.852026858990301\n",
      "Accuracy for C=1: 0.8470529718975379\n"
>>>>>>> 6227eb06e1fa593f8a81c50f8155cc41435a83e0
     ]
    }
   ],
   "source": [
    "from sklearn.feature_extraction.text import CountVectorizer\n",
    "from sklearn.svm import LinearSVC\n",
    "from sklearn.metrics import accuracy_score\n",
    "from sklearn.model_selection import train_test_split\n",
    "\n",
    "ngram_vectorizer = CountVectorizer(binary=True, ngram_range=(1, 2))\n",
    "ngram_vectorizer.fit(reviews_train_clean)\n",
    "X = ngram_vectorizer.transform(reviews_train_clean)\n",
    "X_test = ngram_vectorizer.transform(reviews_test_clean)\n",
    "\n",
    "X_train, X_val, y_train, y_val = train_test_split(\n",
    "    X, y, train_size = 0.75\n",
    ")\n",
    "\n",
    "for c in [0.01, 0.05, 0.25, 0.5, 1]:\n",
    "    \n",
    "    svm = LinearSVC(C=c)\n",
    "    svm.fit(X_train, y_train)\n",
    "    print (\"Accuracy for C=%s: %s\" \n",
    "           % (c, accuracy_score(y_val, svm.predict(X_val))))"
   ]
  },
  {
   "cell_type": "code",
   "execution_count": 23,
   "metadata": {},
   "outputs": [
    {
     "name": "stdout",
     "output_type": "stream",
     "text": [
<<<<<<< HEAD
      "Final Accuracy: 0.8972892315344442\n"
=======
      "Final Accuracy: 0.8965431484705297\n"
>>>>>>> 6227eb06e1fa593f8a81c50f8155cc41435a83e0
     ]
    }
   ],
   "source": [
    "final_svm_ngram = LinearSVC(C=0.05)\n",
    "final_svm_ngram.fit(X, y)\n",
    "print (\"Final Accuracy: %s\" \n",
    "       % accuracy_score(y_test, final_svm_ngram.predict(X_test)))"
   ]
  },
  {
   "cell_type": "markdown",
   "metadata": {},
   "source": [
    "# Naive Bayes"
   ]
  },
  {
   "cell_type": "code",
<<<<<<< HEAD
   "execution_count": 24,
=======
   "execution_count": 21,
>>>>>>> 6227eb06e1fa593f8a81c50f8155cc41435a83e0
   "metadata": {},
   "outputs": [],
   "source": [
    "new_df.to_csv(\"final_df.csv\", index=False)"
   ]
  },
  {
   "cell_type": "code",
<<<<<<< HEAD
   "execution_count": 25,
=======
   "execution_count": 22,
>>>>>>> 6227eb06e1fa593f8a81c50f8155cc41435a83e0
   "metadata": {},
   "outputs": [
    {
     "ename": "ModuleNotFoundError",
     "evalue": "No module named 'pyspark'",
     "output_type": "error",
     "traceback": [
      "\u001b[1;31m---------------------------------------------------------------------------\u001b[0m",
      "\u001b[1;31mModuleNotFoundError\u001b[0m                       Traceback (most recent call last)",
      "\u001b[1;32m<ipython-input-25-689e43c3d0b1>\u001b[0m in \u001b[0;36m<module>\u001b[1;34m\u001b[0m\n\u001b[1;32m----> 1\u001b[1;33m \u001b[1;32mfrom\u001b[0m \u001b[0mpyspark\u001b[0m\u001b[1;33m.\u001b[0m\u001b[0msql\u001b[0m \u001b[1;32mimport\u001b[0m \u001b[0mSparkSession\u001b[0m\u001b[1;33m\u001b[0m\u001b[1;33m\u001b[0m\u001b[0m\n\u001b[0m\u001b[0;32m      2\u001b[0m \u001b[0mspark\u001b[0m \u001b[1;33m=\u001b[0m \u001b[0mSparkSession\u001b[0m\u001b[1;33m.\u001b[0m\u001b[0mbuilder\u001b[0m\u001b[1;33m.\u001b[0m\u001b[0mappName\u001b[0m\u001b[1;33m(\u001b[0m\u001b[1;34m\"basics\"\u001b[0m\u001b[1;33m)\u001b[0m\u001b[1;33m.\u001b[0m\u001b[0mgetOrCreate\u001b[0m\u001b[1;33m(\u001b[0m\u001b[1;33m)\u001b[0m\u001b[1;33m\u001b[0m\u001b[1;33m\u001b[0m\u001b[0m\n",
      "\u001b[1;31mModuleNotFoundError\u001b[0m: No module named 'pyspark'"
     ]
    }
   ],
   "source": [
    "from pyspark.sql import SparkSession\n",
    "spark = SparkSession.builder.appName(\"basics\").getOrCreate()"
   ]
  },
  {
   "cell_type": "code",
<<<<<<< HEAD
   "execution_count": 26,
   "metadata": {},
   "outputs": [
    {
     "ename": "ModuleNotFoundError",
     "evalue": "No module named 'pyspark'",
     "output_type": "error",
     "traceback": [
      "\u001b[1;31m---------------------------------------------------------------------------\u001b[0m",
      "\u001b[1;31mModuleNotFoundError\u001b[0m                       Traceback (most recent call last)",
      "\u001b[1;32m<ipython-input-26-85707413b376>\u001b[0m in \u001b[0;36m<module>\u001b[1;34m\u001b[0m\n\u001b[1;32m----> 1\u001b[1;33m \u001b[1;32mfrom\u001b[0m \u001b[0mpyspark\u001b[0m \u001b[1;32mimport\u001b[0m \u001b[0mSparkFiles\u001b[0m\u001b[1;33m\u001b[0m\u001b[1;33m\u001b[0m\u001b[0m\n\u001b[0m\u001b[0;32m      2\u001b[0m \u001b[1;33m\u001b[0m\u001b[0m\n\u001b[0;32m      3\u001b[0m \u001b[1;31m# Load in user_data.csv from S3 into a DataFrame\u001b[0m\u001b[1;33m\u001b[0m\u001b[1;33m\u001b[0m\u001b[1;33m\u001b[0m\u001b[0m\n\u001b[0;32m      4\u001b[0m \u001b[0mspark\u001b[0m \u001b[1;33m=\u001b[0m \u001b[0mSparkSession\u001b[0m\u001b[1;33m.\u001b[0m\u001b[0mbuilder\u001b[0m\u001b[1;33m.\u001b[0m\u001b[0mmaster\u001b[0m\u001b[1;33m(\u001b[0m\u001b[1;34m\"local\"\u001b[0m\u001b[1;33m)\u001b[0m\u001b[1;33m.\u001b[0m\u001b[0mappName\u001b[0m\u001b[1;33m(\u001b[0m\u001b[1;34m\"CsvReader\"\u001b[0m\u001b[1;33m)\u001b[0m\u001b[1;33m.\u001b[0m\u001b[0mgetOrCreate\u001b[0m\u001b[1;33m(\u001b[0m\u001b[1;33m)\u001b[0m\u001b[1;33m\u001b[0m\u001b[1;33m\u001b[0m\u001b[0m\n\u001b[0;32m      5\u001b[0m \u001b[0mspark_df\u001b[0m \u001b[1;33m=\u001b[0m \u001b[0mspark\u001b[0m\u001b[1;33m.\u001b[0m\u001b[0mread\u001b[0m\u001b[1;33m.\u001b[0m\u001b[0mformat\u001b[0m\u001b[1;33m(\u001b[0m\u001b[1;34m\"csv\"\u001b[0m\u001b[1;33m)\u001b[0m\u001b[1;33m.\u001b[0m\u001b[0moption\u001b[0m\u001b[1;33m(\u001b[0m\u001b[1;34m\"header\"\u001b[0m\u001b[1;33m,\u001b[0m \u001b[1;34m\"true\"\u001b[0m\u001b[1;33m)\u001b[0m\u001b[1;33m.\u001b[0m\u001b[0mload\u001b[0m\u001b[1;33m(\u001b[0m\u001b[1;34mr\"C:\\Users\\ajkim\\Desktop\\Final Project\\final_df.csv\"\u001b[0m\u001b[1;33m)\u001b[0m\u001b[1;33m\u001b[0m\u001b[1;33m\u001b[0m\u001b[0m\n",
      "\u001b[1;31mModuleNotFoundError\u001b[0m: No module named 'pyspark'"
     ]
    }
   ],
=======
   "execution_count": 23,
   "metadata": {},
   "outputs": [],
>>>>>>> 6227eb06e1fa593f8a81c50f8155cc41435a83e0
   "source": [
    "from pyspark import SparkFiles\n",
    "\n",
    "# Load in user_data.csv from S3 into a DataFrame\n",
    "spark = SparkSession.builder.master(\"local\").appName(\"CsvReader\").getOrCreate()\n",
    "spark_df = spark.read.format(\"csv\").option(\"header\", \"true\").load(r\"C:\\Users\\ajkim\\Desktop\\Final Project\\final_df.csv\")"
   ]
  },
  {
   "cell_type": "code",
   "execution_count": 24,
   "metadata": {},
   "outputs": [],
   "source": [
    "from pyspark.sql.types import IntegerType\n",
    "\n",
    "spark_df = spark_df.withColumn(\"rating1\", spark_df[\"rating\"].cast(IntegerType()))\n",
    "spark_df = spark_df.drop(spark_df.rating)\n",
    "spark_df = spark_df.withColumnRenamed(\"rating1\", \"rating\")"
   ]
  },
  {
   "cell_type": "code",
   "execution_count": 25,
   "metadata": {},
   "outputs": [
    {
     "data": {
      "text/plain": [
       "DataFrame[label: int, review_text: string, review_length: int]"
      ]
     },
     "execution_count": 25,
     "metadata": {},
     "output_type": "execute_result"
    }
   ],
   "source": [
    "from pyspark.sql.functions import regexp_extract, length\n",
    "review_df = spark_df.withColumnRenamed(\"rating\", \"label\")\\\n",
    "      .withColumnRenamed(\"content\", \"review_text\")\\\n",
    "      .select([\"label\", \"review_text\"])\n",
    "review_df = review_df.withColumn('review_length', length(review_df['review_text'])).dropna()\n",
    "review_df.cache()"
   ]
  },
  {
   "cell_type": "code",
   "execution_count": 26,
   "metadata": {},
   "outputs": [],
   "source": [
    "from pyspark.ml.feature import Tokenizer, StopWordsRemover, HashingTF, IDF\n",
    "\n",
    "# Create all the features to the data set\n",
    "tokenizer = Tokenizer(inputCol=\"review_text\", outputCol=\"token_text\")\n",
    "stopremove = StopWordsRemover(inputCol='token_text',outputCol='stop_tokens')\n",
    "hashingTF = HashingTF(inputCol=\"token_text\", outputCol='hash_token')\n",
    "idf = IDF(inputCol='hash_token', outputCol='idf_token')"
   ]
  },
  {
   "cell_type": "code",
   "execution_count": 27,
   "metadata": {},
   "outputs": [],
   "source": [
    "from pyspark.ml.feature import VectorAssembler\n",
    "from pyspark.ml.linalg import Vector\n",
    "\n",
    "# Create feature vectors\n",
    "clean_up = VectorAssembler(inputCols=['idf_token', 'review_length'], outputCol='features')"
   ]
  },
  {
   "cell_type": "code",
   "execution_count": 28,
   "metadata": {},
   "outputs": [],
   "source": [
    "# Create and run a data processing Pipeline\n",
    "from pyspark.ml import Pipeline\n",
    "data_prep_pipeline = Pipeline(stages=[tokenizer, stopremove, hashingTF, idf, clean_up])"
   ]
  },
  {
   "cell_type": "code",
   "execution_count": 29,
   "metadata": {},
   "outputs": [],
   "source": [
    "# Fit and transform the pipeline\n",
    "cleaner = data_prep_pipeline.fit(review_df)\n",
    "cleaned = cleaner.transform(review_df)"
   ]
  },
  {
   "cell_type": "code",
   "execution_count": 30,
   "metadata": {},
   "outputs": [],
   "source": [
    "from pyspark.ml.classification import NaiveBayes\n",
    "# Break data down into a training set and a testing set\n",
    "training, testing = cleaned.randomSplit([0.7, 0.3])\n",
    "\n",
    "# Create a Naive Bayes model and fit training data\n",
    "nb = NaiveBayes()\n",
    "predictor = nb.fit(training)"
   ]
  },
  {
   "cell_type": "code",
   "execution_count": 31,
   "metadata": {
    "scrolled": true
   },
   "outputs": [
    {
     "name": "stdout",
     "output_type": "stream",
     "text": [
      "+-----+--------------------+-------------+--------------------+--------------------+--------------------+--------------------+--------------------+--------------------+--------------------+----------+\n",
      "|label|         review_text|review_length|          token_text|         stop_tokens|          hash_token|           idf_token|            features|       rawPrediction|         probability|prediction|\n",
      "+-----+--------------------+-------------+--------------------+--------------------+--------------------+--------------------+--------------------+--------------------+--------------------+----------+\n",
      "|    0|                  ..|            4|            [, , ..]|            [, , ..]|(262144,[30445,24...|(262144,[30445,24...|(262145,[30445,24...|[-69.720217649278...|[0.49373838023583...|       1.0|\n",
      "|    0|  1  no 2  idk..?...|          234|[, , 1, , no, 2, ...|[, , 1, , 2, , id...|(262144,[4200,963...|(262144,[4200,963...|(262145,[4200,963...|[-2348.2707658471...|[1.0,7.0837981960...|       0.0|\n",
      "|    0|               10ish|            7|         [, , 10ish]|         [, , 10ish]|(262144,[173912,2...|(262144,[173912,2...|(262145,[173912,2...|[-142.87614982740...|[0.35535697681538...|       1.0|\n",
      "|    0|  1995 haha when ...|           85|[, , 1995, haha, ...|[, , 1995, haha, ...|(262144,[21020,22...|(262144,[21020,22...|(262145,[21020,22...|[-901.23438569949...|[1.0,4.9799952817...|       0.0|\n",
      "|    0|                2 :)|            6|         [, , 2, :)]|         [, , 2, :)]|(262144,[212053,2...|(262144,[212053,2...|(262145,[212053,2...|[-69.148494896892...|[0.99230003466935...|       0.0|\n",
      "+-----+--------------------+-------------+--------------------+--------------------+--------------------+--------------------+--------------------+--------------------+--------------------+----------+\n",
      "only showing top 5 rows\n",
      "\n"
     ]
    }
   ],
   "source": [
    "# Tranform the model with the testing data\n",
    "test_results = predictor.transform(testing)\n",
    "test_results.show(5)"
   ]
  },
  {
   "cell_type": "code",
   "execution_count": 32,
   "metadata": {},
   "outputs": [
    {
     "name": "stdout",
     "output_type": "stream",
     "text": [
      "Accuracy of model at predicting reviews was: 0.804793\n"
     ]
    }
   ],
   "source": [
    "# Use the Class Evaluator for a cleaner description\n",
    "from pyspark.ml.evaluation import MulticlassClassificationEvaluator\n",
    "\n",
    "acc_eval = MulticlassClassificationEvaluator()\n",
    "acc = acc_eval.evaluate(test_results)\n",
    "print(\"Accuracy of model at predicting reviews was: %f\" % acc)"
   ]
  },
  {
   "cell_type": "markdown",
   "metadata": {},
   "source": [
    "# Final Model"
   ]
  },
  {
   "cell_type": "code",
<<<<<<< HEAD
   "execution_count": 27,
=======
   "execution_count": 33,
>>>>>>> 6227eb06e1fa593f8a81c50f8155cc41435a83e0
   "metadata": {},
   "outputs": [],
   "source": [
    "from sklearn.feature_extraction.text import CountVectorizer\n",
    "from sklearn.model_selection import train_test_split\n",
    "from sklearn.metrics import accuracy_score\n",
    "from sklearn.svm import LinearSVC\n",
    "from nltk.corpus import stopwords"
   ]
  },
  {
   "cell_type": "code",
<<<<<<< HEAD
   "execution_count": 28,
=======
   "execution_count": 34,
>>>>>>> 6227eb06e1fa593f8a81c50f8155cc41435a83e0
   "metadata": {},
   "outputs": [
    {
     "name": "stdout",
     "output_type": "stream",
     "text": [
<<<<<<< HEAD
      "Accuracy for C=0.04: 0.8190523566720557\n",
      "Accuracy for C=0.05: 0.8170625544086556\n",
      "Accuracy for C=0.06: 0.8166894664842681\n",
      "Accuracy for C=0.07: 0.8151971147867181\n",
      "Accuracy for C=0.08: 0.8148240268623306\n",
      "Accuracy for C=0.09: 0.8148240268623306\n",
      "Accuracy for C=0.1: 0.8159432906354931\n",
      "Accuracy for C=0.11: 0.8178087302574306\n",
      "Accuracy for C=0.12: 0.8179330928988932\n",
      "Accuracy for C=0.13: 0.8171869170501181\n",
      "Accuracy for C=0.14: 0.8166894664842681\n",
      "Accuracy for C=0.15: 0.8165651038428057\n",
      "Final Accuracy: 0.8542651081820443\n"
=======
      "Accuracy for C=0.04: 0.8183061808232807\n",
      "Accuracy for C=0.05: 0.8191767193135182\n",
      "Accuracy for C=0.06: 0.8206690710110682\n",
      "Accuracy for C=0.07: 0.8196741698793683\n",
      "Accuracy for C=0.08: 0.8194254445964432\n",
      "Accuracy for C=0.09: 0.8188036313891307\n",
      "Accuracy for C=0.1: 0.8181818181818182\n",
      "Accuracy for C=0.11: 0.8171869170501181\n",
      "Accuracy for C=0.12: 0.8166894664842681\n",
      "Accuracy for C=0.13: 0.8169381917671932\n",
      "Accuracy for C=0.14: 0.8166894664842681\n",
      "Accuracy for C=0.15: 0.8153214774281806\n"
>>>>>>> 6227eb06e1fa593f8a81c50f8155cc41435a83e0
     ]
    }
   ],
   "source": [
    "stop_words = stopwords.words('english')\n",
    "ngram_vectorizer = CountVectorizer(binary=True, ngram_range=(1, 3), stop_words=stop_words)\n",
    "ngram_vectorizer.fit(reviews_train_clean)\n",
    "X = ngram_vectorizer.transform(reviews_train_clean)\n",
    "X_test = ngram_vectorizer.transform(reviews_test_clean)\n",
    "\n",
    "X_train, X_val, y_train, y_val = train_test_split(\n",
    "    X, y, train_size = 0.5\n",
    ")\n",
    "\n",
    "ccc = []\n",
    "c_scores = []\n",
    "\n",
    "for c in [0.04, 0.05, 0.06, 0.07, 0.08, 0.09, 0.1, 0.11, 0.12, 0.13, 0.14, 0.15]:\n",
    "    \n",
    "    svm = LinearSVC(C=c)\n",
    "    svm.fit(X_train, y_train)\n",
    "    print (\"Accuracy for C=%s: %s\" \n",
    "           % (c, accuracy_score(y_val, svm.predict(X_val))))\n",
    "    ccc.append(c)\n",
    "    c_scores.append(accuracy_score(y_val, svm.predict(X_val)))   "
   ]
  },
  {
   "cell_type": "code",
<<<<<<< HEAD
   "execution_count": 29,
=======
   "execution_count": 35,
>>>>>>> 6227eb06e1fa593f8a81c50f8155cc41435a83e0
   "metadata": {},
   "outputs": [
    {
     "data": {
<<<<<<< HEAD
      "image/png": "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\n",
=======
>>>>>>> 6227eb06e1fa593f8a81c50f8155cc41435a83e0
      "text/plain": [
       "<Figure size 640x480 with 1 Axes>"
      ]
     },
     "metadata": {},
     "output_type": "display_data"
    }
   ],
   "source": [
    "import matplotlib.pyplot as plt    \n",
    "                    \n",
    "plt.plot(ccc, c_scores)\n",
    "plt.show()"
   ]
  },
  {
   "cell_type": "code",
   "execution_count": 46,
   "metadata": {},
   "outputs": [
    {
     "name": "stdout",
     "output_type": "stream",
     "text": [
      "Final Accuracy: 0.9017657299179309\n"
     ]
    }
   ],
   "source": [
    "final = LinearSVC(tol=.000001,C=0.06)\n",
    "final.fit(X, y)\n",
    "print (\"Final Accuracy: %s\" \n",
    "       % accuracy_score(y_test, final.predict(X_test)))"
   ]
  },
  {
<<<<<<< HEAD
   "cell_type": "code",
   "execution_count": 30,
=======
   "cell_type": "markdown",
>>>>>>> 6227eb06e1fa593f8a81c50f8155cc41435a83e0
   "metadata": {},
   "source": [
    "# Let's test this baby out!"
   ]
  },
  {
   "cell_type": "code",
<<<<<<< HEAD
   "execution_count": 31,
=======
   "execution_count": 47,
>>>>>>> 6227eb06e1fa593f8a81c50f8155cc41435a83e0
   "metadata": {},
   "outputs": [],
   "source": [
    "tweets_list = [i[1][\"content\"] for i in tweets.iterrows()]\n",
    "rating_list = [i[1][\"rating\"] for i in tweets.iterrows()]"
   ]
  },
  {
   "cell_type": "code",
<<<<<<< HEAD
   "execution_count": 32,
=======
   "execution_count": 48,
>>>>>>> 6227eb06e1fa593f8a81c50f8155cc41435a83e0
   "metadata": {},
   "outputs": [
    {
     "data": {
      "text/plain": [
       "101"
      ]
     },
<<<<<<< HEAD
     "execution_count": 32,
=======
     "execution_count": 48,
>>>>>>> 6227eb06e1fa593f8a81c50f8155cc41435a83e0
     "metadata": {},
     "output_type": "execute_result"
    }
   ],
   "source": [
    "twitter_cleaned = preprocess_reviews(tweets_list)\n",
    "len(twitter_cleaned)"
   ]
  },
  {
   "cell_type": "code",
<<<<<<< HEAD
   "execution_count": 33,
=======
   "execution_count": 49,
>>>>>>> 6227eb06e1fa593f8a81c50f8155cc41435a83e0
   "metadata": {},
   "outputs": [
    {
     "data": {
      "text/plain": [
<<<<<<< HEAD
       "(101, 138169)"
      ]
     },
     "execution_count": 33,
=======
       "(101, 138965)"
      ]
     },
     "execution_count": 49,
>>>>>>> 6227eb06e1fa593f8a81c50f8155cc41435a83e0
     "metadata": {},
     "output_type": "execute_result"
    }
   ],
   "source": [
    "tws = ngram_vectorizer.transform(twitter_cleaned)\n",
    "tws.shape"
   ]
  },
  {
   "cell_type": "code",
<<<<<<< HEAD
   "execution_count": 34,
=======
   "execution_count": 50,
>>>>>>> 6227eb06e1fa593f8a81c50f8155cc41435a83e0
   "metadata": {},
   "outputs": [],
   "source": [
    "predictions = final.predict(tws[:100])"
   ]
  },
  {
   "cell_type": "code",
<<<<<<< HEAD
   "execution_count": 35,
=======
   "execution_count": 51,
>>>>>>> 6227eb06e1fa593f8a81c50f8155cc41435a83e0
   "metadata": {},
   "outputs": [
    {
     "data": {
      "text/html": [
       "<div>\n",
       "<style scoped>\n",
       "    .dataframe tbody tr th:only-of-type {\n",
       "        vertical-align: middle;\n",
       "    }\n",
       "\n",
       "    .dataframe tbody tr th {\n",
       "        vertical-align: top;\n",
       "    }\n",
       "\n",
       "    .dataframe thead th {\n",
       "        text-align: right;\n",
       "    }\n",
       "</style>\n",
       "<table border=\"1\" class=\"dataframe\">\n",
       "  <thead>\n",
       "    <tr style=\"text-align: right;\">\n",
       "      <th></th>\n",
       "      <th>Prediction</th>\n",
       "      <th>Actual</th>\n",
       "    </tr>\n",
       "  </thead>\n",
       "  <tbody>\n",
       "    <tr>\n",
       "      <th>0</th>\n",
       "      <td>0</td>\n",
       "      <td>0</td>\n",
       "    </tr>\n",
       "    <tr>\n",
       "      <th>1</th>\n",
       "      <td>0</td>\n",
       "      <td>0</td>\n",
       "    </tr>\n",
       "    <tr>\n",
       "      <th>2</th>\n",
       "      <td>1</td>\n",
       "      <td>1</td>\n",
       "    </tr>\n",
       "    <tr>\n",
       "      <th>3</th>\n",
       "      <td>0</td>\n",
       "      <td>1</td>\n",
       "    </tr>\n",
       "    <tr>\n",
       "      <th>4</th>\n",
       "      <td>1</td>\n",
       "      <td>1</td>\n",
       "    </tr>\n",
       "  </tbody>\n",
       "</table>\n",
       "</div>"
      ],
      "text/plain": [
       "   Prediction  Actual\n",
       "0           0       0\n",
       "1           0       0\n",
       "2           1       1\n",
<<<<<<< HEAD
       "3           1       1\n",
       "4           1       1"
      ]
     },
     "execution_count": 35,
=======
       "3           0       1\n",
       "4           1       1"
      ]
     },
     "execution_count": 51,
>>>>>>> 6227eb06e1fa593f8a81c50f8155cc41435a83e0
     "metadata": {},
     "output_type": "execute_result"
    }
   ],
   "source": [
    "pd.DataFrame({\"Prediction\": predictions, \"Actual\": rating_list[:100]}).reset_index(drop=True).head()"
   ]
  },
  {
   "cell_type": "code",
<<<<<<< HEAD
   "execution_count": 36,
=======
   "execution_count": 52,
>>>>>>> 6227eb06e1fa593f8a81c50f8155cc41435a83e0
   "metadata": {},
   "outputs": [
    {
     "name": "stdout",
     "output_type": "stream",
     "text": [
<<<<<<< HEAD
      "Accuracy: 0.73\n"
=======
      "Accuracy: 0.88\n"
>>>>>>> 6227eb06e1fa593f8a81c50f8155cc41435a83e0
     ]
    }
   ],
   "source": [
    "total = 0\n",
    "score = 0\n",
    "for i, j in zip(predictions, rating_list):\n",
    "    total += 1\n",
    "    if i == j:\n",
    "        score += 1\n",
    "        \n",
    "print(f\"Accuracy: {score/total}\")"
   ]
  },
  {
   "cell_type": "markdown",
   "metadata": {},
   "source": [
    "# Save & Load Model"
   ]
  },
  {
   "cell_type": "code",
<<<<<<< HEAD
   "execution_count": 37,
=======
   "execution_count": 53,
>>>>>>> 6227eb06e1fa593f8a81c50f8155cc41435a83e0
   "metadata": {},
   "outputs": [],
   "source": [
    "from sklearn.externals import joblib"
   ]
  },
  {
   "cell_type": "code",
<<<<<<< HEAD
   "execution_count": 38,
=======
   "execution_count": 54,
>>>>>>> 6227eb06e1fa593f8a81c50f8155cc41435a83e0
   "metadata": {},
   "outputs": [
    {
     "data": {
      "text/plain": [
       "['final_model_svc.pkl']"
      ]
     },
<<<<<<< HEAD
     "execution_count": 38,
=======
     "execution_count": 54,
>>>>>>> 6227eb06e1fa593f8a81c50f8155cc41435a83e0
     "metadata": {},
     "output_type": "execute_result"
    }
   ],
   "source": [
    "joblib.dump(final, \"final_model_svc.pkl\")"
   ]
  },
  {
   "cell_type": "code",
<<<<<<< HEAD
   "execution_count": 39,
=======
   "execution_count": 55,
>>>>>>> 6227eb06e1fa593f8a81c50f8155cc41435a83e0
   "metadata": {},
   "outputs": [
    {
     "name": "stdout",
     "output_type": "stream",
     "text": [
      "using trained model\n"
     ]
    }
   ],
   "source": [
    "try:\n",
    "    retrieve_model = joblib.load(\"final_model_svc.pkl\")\n",
    "    print(\"using trained model\")\n",
    "except:\n",
    "    print(\"model not found\")\n",
    "    joblib.dump(final, \"final_model_svc.pkl\")"
   ]
  },
  {
   "cell_type": "code",
   "execution_count": null,
   "metadata": {},
   "outputs": [],
   "source": []
  }
 ],
 "metadata": {
  "kernelspec": {
   "display_name": "Python 3",
   "language": "python",
   "name": "python3"
  },
  "language_info": {
   "codemirror_mode": {
    "name": "ipython",
    "version": 3
   },
   "file_extension": ".py",
   "mimetype": "text/x-python",
   "name": "python",
   "nbconvert_exporter": "python",
   "pygments_lexer": "ipython3",
   "version": "3.7.3"
  }
 },
 "nbformat": 4,
 "nbformat_minor": 2
}
